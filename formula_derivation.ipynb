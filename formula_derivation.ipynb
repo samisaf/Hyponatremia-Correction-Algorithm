{
 "cells": [
  {
   "cell_type": "markdown",
   "metadata": {},
   "source": [
    "# Hyponatremia in Pain Math\n",
    "The goal of this document is to derive an equation to calculate either the the IVF rate required to correct a dysnatremia, or the change in serum [Na] after infusion ofintravenous fluids.\n",
    "\n",
    "$IVFRate = \\frac{NaEnd \\times TBW - NaEnd \\times Time \\times URate - NaStart \\times TBW + Time \\times UK\\times URate + Time \\times UNa \\times URate}{Time \\times (IVFConc - NaEnd)}$\n",
    "\n",
    "$NaEnd = \\frac{IVFConc \\times IVFRate \\times Time + NaStart \\times TBW - Time \\times UK \\times URate - Time \\times UNa \\times URate}{IVFRate \\times Time + TBW - Time \\times URate}$\n"
   ]
  },
  {
   "cell_type": "code",
   "execution_count": 1,
   "metadata": {
    "collapsed": true
   },
   "outputs": [],
   "source": [
    "from sympy import *\n",
    "NaStart, NaEnd, UNa, UK, URate = symbols('NaStart NaEnd UNa UK URate')\n",
    "TES, TBW, Weight = symbols('TES TBW Weight')\n",
    "alpha, beta = symbols('alpha beta')\n",
    "IVFConc, IVFRate, Time = symbols('IVFConc IVFRate Time')\n",
    "\n",
    "\n",
    "# Frirst version\n",
    "eq1 = Eq(NaStart, TES/TBW)\n",
    "eq2 = Eq(NaEnd, (TES - (UNa + UK) * URate * Time + IVFConc * IVFRate * Time)/(TBW - URate * Time + IVFRate * Time))\n",
    "solution1 = solve([eq1, eq2], [IVFRate, TES])\n",
    "solution2 = solve([eq1, eq2], [NaEnd, TES])\n",
    "\n",
    "# Second Version \n",
    "eq1 = Eq(NaStart, alpha*(TES/TBW) + beta)\n",
    "eq2 = Eq(NaEnd, (TES - alpha*((UNa + UK) * URate * Time + IVFConc * IVFRate * Time)/(TBW - URate * Time + IVFRate * Time)) + beta)\n",
    "solution1 = solve([eq1, eq2], [IVFRate, TES])\n",
    "solution2 = solve([eq1, eq2], [NaEnd, TES])\n",
    "\n",
    "# Third Version \n",
    "eq1 = Eq(NaStart, (TES/TBW) + beta)\n",
    "eq2 = Eq(NaEnd, (TES - ((UNa + UK) * URate * Time + IVFConc * IVFRate * Time)/(TBW - URate * Time + IVFRate * Time)) + beta)\n",
    "solution1 = solve([eq1, eq2], [IVFRate, TES])\n",
    "solution2 = solve([eq1, eq2], [NaEnd, TES])\n"
   ]
  },
  {
   "cell_type": "code",
   "execution_count": 3,
   "metadata": {
    "collapsed": false
   },
   "outputs": [],
   "source": [
    "eq1 = Eq(NaStart, TES/TBW)\n",
    "eq2 = Eq(NaEnd, (TES - (UNa + UK) * URate * Time + IVFConc * IVFRate * Time)/(TBW - URate * Time + IVFRate * Time))\n",
    "solution1 = solve([eq1, eq2], [IVFRate, TES])\n",
    "solution2 = solve([eq1, eq2], [NaEnd, TES])"
   ]
  },
  {
   "cell_type": "code",
   "execution_count": 4,
   "metadata": {
    "collapsed": false
   },
   "outputs": [
    {
     "data": {
      "text/plain": [
       "{IVFRate: (NaEnd*TBW - NaEnd*Time*URate - NaStart*TBW + Time*UK*URate + Time*UNa*URate)/(Time*(IVFConc - NaEnd)),\n",
       " TES: NaStart*TBW}"
      ]
     },
     "execution_count": 4,
     "metadata": {},
     "output_type": "execute_result"
    }
   ],
   "source": [
    "solution1"
   ]
  },
  {
   "cell_type": "code",
   "execution_count": 5,
   "metadata": {
    "collapsed": false
   },
   "outputs": [
    {
     "data": {
      "text/plain": [
       "{NaEnd: (IVFConc*IVFRate*Time + NaStart*TBW - Time*UK*URate - Time*UNa*URate)/(IVFRate*Time + TBW - Time*URate),\n",
       " TES: NaStart*TBW}"
      ]
     },
     "execution_count": 5,
     "metadata": {},
     "output_type": "execute_result"
    }
   ],
   "source": [
    "solution2"
   ]
  },
  {
   "cell_type": "code",
   "execution_count": null,
   "metadata": {
    "collapsed": true
   },
   "outputs": [],
   "source": []
  }
 ],
 "metadata": {
  "kernelspec": {
   "display_name": "Python 3",
   "language": "python",
   "name": "python3"
  },
  "language_info": {
   "codemirror_mode": {
    "name": "ipython",
    "version": 3
   },
   "file_extension": ".py",
   "mimetype": "text/x-python",
   "name": "python",
   "nbconvert_exporter": "python",
   "pygments_lexer": "ipython3",
   "version": "3.5.1"
  }
 },
 "nbformat": 4,
 "nbformat_minor": 0
}
